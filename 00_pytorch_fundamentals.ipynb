{
  "nbformat": 4,
  "nbformat_minor": 0,
  "metadata": {
    "colab": {
      "provenance": [],
      "authorship_tag": "ABX9TyO8pSszsAvYjiOsR7vleupg",
      "include_colab_link": true
    },
    "kernelspec": {
      "name": "python3",
      "display_name": "Python 3"
    },
    "language_info": {
      "name": "python"
    }
  },
  "cells": [
    {
      "cell_type": "markdown",
      "metadata": {
        "id": "view-in-github",
        "colab_type": "text"
      },
      "source": [
        "<a href=\"https://colab.research.google.com/github/MuhammadSafeer786/ArticleBot/blob/main/00_pytorch_fundamentals.ipynb\" target=\"_parent\"><img src=\"https://colab.research.google.com/assets/colab-badge.svg\" alt=\"Open In Colab\"/></a>"
      ]
    },
    {
      "cell_type": "markdown",
      "source": [
        "Recources :\n",
        "\n",
        "1- Github https://github.com/mrdbourke/pytorch-deep-learning\n",
        "\n",
        "2- Book https://learnpytorch.io\n",
        "\n",
        "3- Pytorch https://pytorch.org\n",
        "\n",
        "4- Pytorch Forum"
      ],
      "metadata": {
        "id": "hl-tK0rdb0uW"
      }
    },
    {
      "cell_type": "code",
      "execution_count": 53,
      "metadata": {
        "colab": {
          "base_uri": "https://localhost:8080/"
        },
        "id": "N8pMm7WFEmSj",
        "outputId": "b56daeca-7986-442e-9a98-b59c09cc7aea"
      },
      "outputs": [
        {
          "output_type": "stream",
          "name": "stdout",
          "text": [
            "2.5.1+cu121\n"
          ]
        }
      ],
      "source": [
        "import torch\n",
        "import pandas as pd\n",
        "import numpy as np\n",
        "import matplotlib.pyplot as plt\n",
        "print(torch.__version__)"
      ]
    },
    {
      "cell_type": "markdown",
      "source": [
        "## Introduction to Tensors\n",
        "\n",
        "### Creating Tensors"
      ],
      "metadata": {
        "id": "AWOFCLi-GblT"
      }
    },
    {
      "cell_type": "code",
      "source": [
        "#scalar\n",
        "scalar = torch.tensor(7)\n",
        "scalar"
      ],
      "metadata": {
        "colab": {
          "base_uri": "https://localhost:8080/"
        },
        "id": "CyxyeePQGCkD",
        "outputId": "19521fb7-678d-4495-c772-ace1feff71ac"
      },
      "execution_count": 54,
      "outputs": [
        {
          "output_type": "execute_result",
          "data": {
            "text/plain": [
              "tensor(7)"
            ]
          },
          "metadata": {},
          "execution_count": 54
        }
      ]
    },
    {
      "cell_type": "code",
      "source": [
        "scalar.ndim"
      ],
      "metadata": {
        "colab": {
          "base_uri": "https://localhost:8080/"
        },
        "id": "_iDUX2DtJTxm",
        "outputId": "d583703d-83d2-4b5d-874d-a306d038001f"
      },
      "execution_count": 55,
      "outputs": [
        {
          "output_type": "execute_result",
          "data": {
            "text/plain": [
              "0"
            ]
          },
          "metadata": {},
          "execution_count": 55
        }
      ]
    },
    {
      "cell_type": "code",
      "source": [
        "scalar.item()"
      ],
      "metadata": {
        "colab": {
          "base_uri": "https://localhost:8080/"
        },
        "id": "osdVCOfmJ5ol",
        "outputId": "c71bf804-05ab-4da8-95ca-57cd4f44abdb"
      },
      "execution_count": 56,
      "outputs": [
        {
          "output_type": "execute_result",
          "data": {
            "text/plain": [
              "7"
            ]
          },
          "metadata": {},
          "execution_count": 56
        }
      ]
    },
    {
      "cell_type": "code",
      "source": [
        "#vector\n",
        "vector = torch.tensor([7,7])\n",
        "vector"
      ],
      "metadata": {
        "colab": {
          "base_uri": "https://localhost:8080/"
        },
        "id": "bGp8ZnHpKEwT",
        "outputId": "2ce3ad9b-9e6c-48fa-922b-8aedf9619065"
      },
      "execution_count": 57,
      "outputs": [
        {
          "output_type": "execute_result",
          "data": {
            "text/plain": [
              "tensor([7, 7])"
            ]
          },
          "metadata": {},
          "execution_count": 57
        }
      ]
    },
    {
      "cell_type": "code",
      "source": [
        "vector.ndim"
      ],
      "metadata": {
        "colab": {
          "base_uri": "https://localhost:8080/"
        },
        "id": "7hrlRAMtLCFe",
        "outputId": "fd425127-0f6b-488e-f1fa-14f770ab0b8c"
      },
      "execution_count": 58,
      "outputs": [
        {
          "output_type": "execute_result",
          "data": {
            "text/plain": [
              "1"
            ]
          },
          "metadata": {},
          "execution_count": 58
        }
      ]
    },
    {
      "cell_type": "code",
      "source": [
        "vector.shape"
      ],
      "metadata": {
        "colab": {
          "base_uri": "https://localhost:8080/"
        },
        "id": "OekhcFk8LCDD",
        "outputId": "b953daab-df82-4565-92a1-f3f9f965633b"
      },
      "execution_count": 59,
      "outputs": [
        {
          "output_type": "execute_result",
          "data": {
            "text/plain": [
              "torch.Size([2])"
            ]
          },
          "metadata": {},
          "execution_count": 59
        }
      ]
    },
    {
      "cell_type": "code",
      "source": [
        "vector[0]"
      ],
      "metadata": {
        "colab": {
          "base_uri": "https://localhost:8080/"
        },
        "id": "4rd-N98QMXHL",
        "outputId": "614355e8-9483-4e76-b43e-8c557c910461"
      },
      "execution_count": 60,
      "outputs": [
        {
          "output_type": "execute_result",
          "data": {
            "text/plain": [
              "tensor(7)"
            ]
          },
          "metadata": {},
          "execution_count": 60
        }
      ]
    },
    {
      "cell_type": "code",
      "source": [
        "Matrix = torch.tensor([[7,8],[9,7]])\n",
        "Matrix"
      ],
      "metadata": {
        "colab": {
          "base_uri": "https://localhost:8080/"
        },
        "id": "WVufiJWCLCAQ",
        "outputId": "910e2beb-55e9-4245-b161-2d00ba16c682"
      },
      "execution_count": 61,
      "outputs": [
        {
          "output_type": "execute_result",
          "data": {
            "text/plain": [
              "tensor([[7, 8],\n",
              "        [9, 7]])"
            ]
          },
          "metadata": {},
          "execution_count": 61
        }
      ]
    },
    {
      "cell_type": "code",
      "source": [
        "Matrix[1]"
      ],
      "metadata": {
        "colab": {
          "base_uri": "https://localhost:8080/"
        },
        "id": "TRRjrgn7LBeH",
        "outputId": "d4d2470a-ab9f-46b9-9040-ae3d8a954928"
      },
      "execution_count": 62,
      "outputs": [
        {
          "output_type": "execute_result",
          "data": {
            "text/plain": [
              "tensor([9, 7])"
            ]
          },
          "metadata": {},
          "execution_count": 62
        }
      ]
    },
    {
      "cell_type": "code",
      "source": [
        "Tensor = torch.tensor([[[2,4,5],[4,9,6],[8,5,2]]])"
      ],
      "metadata": {
        "id": "7_wERLEoMg1D"
      },
      "execution_count": 63,
      "outputs": []
    },
    {
      "cell_type": "markdown",
      "source": [
        "**.size .shape .ndim** but **.item** is only apllicable on scalar"
      ],
      "metadata": {
        "id": "r2uOSILgM0fC"
      }
    },
    {
      "cell_type": "code",
      "source": [
        "Tensor.ndim"
      ],
      "metadata": {
        "colab": {
          "base_uri": "https://localhost:8080/"
        },
        "id": "3Q55JlusMzrk",
        "outputId": "082645b1-ee71-4954-d87f-4a3610754c9e"
      },
      "execution_count": 64,
      "outputs": [
        {
          "output_type": "execute_result",
          "data": {
            "text/plain": [
              "3"
            ]
          },
          "metadata": {},
          "execution_count": 64
        }
      ]
    },
    {
      "cell_type": "code",
      "source": [
        "Tensor.shape"
      ],
      "metadata": {
        "colab": {
          "base_uri": "https://localhost:8080/"
        },
        "id": "ivdh5u8pNfB5",
        "outputId": "52c2d8b7-4311-4a7a-a0db-86b00c1d6f2f"
      },
      "execution_count": 65,
      "outputs": [
        {
          "output_type": "execute_result",
          "data": {
            "text/plain": [
              "torch.Size([1, 3, 3])"
            ]
          },
          "metadata": {},
          "execution_count": 65
        }
      ]
    },
    {
      "cell_type": "markdown",
      "source": [
        "### Random Tensor\n",
        "Why random tensors?\n",
        "\n",
        "`Networks typicaly start with random numbers`"
      ],
      "metadata": {
        "id": "j3cmRXLBNg7V"
      }
    },
    {
      "cell_type": "code",
      "source": [
        "random_tensor = torch.rand(3,4)\n",
        "random_tensor"
      ],
      "metadata": {
        "colab": {
          "base_uri": "https://localhost:8080/"
        },
        "id": "eYQEmfl8OjMU",
        "outputId": "5209ddd7-2f0b-4f92-cfa3-027edf5fb6d4"
      },
      "execution_count": 66,
      "outputs": [
        {
          "output_type": "execute_result",
          "data": {
            "text/plain": [
              "tensor([[0.1805, 0.4825, 0.2686, 0.1408],\n",
              "        [0.7579, 0.1169, 0.9728, 0.5047],\n",
              "        [0.4919, 0.5435, 0.1920, 0.4932]])"
            ]
          },
          "metadata": {},
          "execution_count": 66
        }
      ]
    },
    {
      "cell_type": "code",
      "source": [
        "random_tensor.ndim"
      ],
      "metadata": {
        "colab": {
          "base_uri": "https://localhost:8080/"
        },
        "id": "o1vJN43EPOmH",
        "outputId": "bc8edcb4-4da0-487e-f4e1-9e5c1870a2e6"
      },
      "execution_count": 67,
      "outputs": [
        {
          "output_type": "execute_result",
          "data": {
            "text/plain": [
              "2"
            ]
          },
          "metadata": {},
          "execution_count": 67
        }
      ]
    },
    {
      "cell_type": "code",
      "source": [
        "rand_img_tensor = torch.rand(size=(3,224,224))"
      ],
      "metadata": {
        "id": "GOOOzuwSPOj3"
      },
      "execution_count": 68,
      "outputs": []
    },
    {
      "cell_type": "code",
      "source": [
        "rand_img_tensor"
      ],
      "metadata": {
        "colab": {
          "base_uri": "https://localhost:8080/"
        },
        "id": "obYN0e2HPOhc",
        "outputId": "22bfcac7-67b1-4028-bdc9-f161e2d0aa97"
      },
      "execution_count": 69,
      "outputs": [
        {
          "output_type": "execute_result",
          "data": {
            "text/plain": [
              "tensor([[[0.4749, 0.0941, 0.1364,  ..., 0.1132, 0.6131, 0.0854],\n",
              "         [0.5352, 0.2889, 0.5913,  ..., 0.2435, 0.7539, 0.5811],\n",
              "         [0.4221, 0.4834, 0.2398,  ..., 0.9443, 0.1743, 0.5264],\n",
              "         ...,\n",
              "         [0.6272, 0.4500, 0.5890,  ..., 0.7239, 0.3162, 0.0596],\n",
              "         [0.6831, 0.9689, 0.8595,  ..., 0.3069, 0.7110, 0.4506],\n",
              "         [0.6225, 0.4547, 0.4092,  ..., 0.7875, 0.8275, 0.7384]],\n",
              "\n",
              "        [[0.6331, 0.6580, 0.6227,  ..., 0.0233, 0.0977, 0.5208],\n",
              "         [0.7864, 0.9949, 0.3963,  ..., 0.3339, 0.8099, 0.7897],\n",
              "         [0.4159, 0.1925, 0.5524,  ..., 0.4195, 0.7804, 0.6490],\n",
              "         ...,\n",
              "         [0.5427, 0.3199, 0.1181,  ..., 0.3806, 0.7593, 0.8133],\n",
              "         [0.1372, 0.6393, 0.2907,  ..., 0.0861, 0.7443, 0.3183],\n",
              "         [0.7273, 0.8777, 0.6444,  ..., 0.6339, 0.1393, 0.9686]],\n",
              "\n",
              "        [[0.2392, 0.8477, 0.9947,  ..., 0.9432, 0.3000, 0.8386],\n",
              "         [0.0826, 0.3887, 0.6113,  ..., 0.7840, 0.8827, 0.7843],\n",
              "         [0.4974, 0.1887, 0.0380,  ..., 0.6854, 0.7493, 0.8281],\n",
              "         ...,\n",
              "         [0.5093, 0.6911, 0.2809,  ..., 0.8254, 0.4516, 0.4433],\n",
              "         [0.0680, 0.2370, 0.8365,  ..., 0.5175, 0.2605, 0.1982],\n",
              "         [0.8150, 0.9912, 0.4170,  ..., 0.7458, 0.9293, 0.0844]]])"
            ]
          },
          "metadata": {},
          "execution_count": 69
        }
      ]
    },
    {
      "cell_type": "code",
      "source": [
        "zeros= torch.zeros(3,4)\n",
        "zeros"
      ],
      "metadata": {
        "colab": {
          "base_uri": "https://localhost:8080/"
        },
        "id": "PKyPAHINPOfF",
        "outputId": "bd2cec2e-40ef-46e7-c7ee-b7fb3ec43ae9"
      },
      "execution_count": 70,
      "outputs": [
        {
          "output_type": "execute_result",
          "data": {
            "text/plain": [
              "tensor([[0., 0., 0., 0.],\n",
              "        [0., 0., 0., 0.],\n",
              "        [0., 0., 0., 0.]])"
            ]
          },
          "metadata": {},
          "execution_count": 70
        }
      ]
    },
    {
      "cell_type": "code",
      "source": [
        "random_tensor*zeros"
      ],
      "metadata": {
        "colab": {
          "base_uri": "https://localhost:8080/"
        },
        "id": "yEnE_R2ZPOca",
        "outputId": "cc160bc1-d23f-426f-9401-b208ed03979e"
      },
      "execution_count": 71,
      "outputs": [
        {
          "output_type": "execute_result",
          "data": {
            "text/plain": [
              "tensor([[0., 0., 0., 0.],\n",
              "        [0., 0., 0., 0.],\n",
              "        [0., 0., 0., 0.]])"
            ]
          },
          "metadata": {},
          "execution_count": 71
        }
      ]
    },
    {
      "cell_type": "code",
      "source": [
        "ones = torch.ones(3,4)\n",
        "ones"
      ],
      "metadata": {
        "colab": {
          "base_uri": "https://localhost:8080/"
        },
        "id": "N9SWQJbtPOZm",
        "outputId": "0cf8a08d-9c0d-4890-a123-66d7b8519869"
      },
      "execution_count": 72,
      "outputs": [
        {
          "output_type": "execute_result",
          "data": {
            "text/plain": [
              "tensor([[1., 1., 1., 1.],\n",
              "        [1., 1., 1., 1.],\n",
              "        [1., 1., 1., 1.]])"
            ]
          },
          "metadata": {},
          "execution_count": 72
        }
      ]
    },
    {
      "cell_type": "code",
      "source": [
        "matrix.dtype"
      ],
      "metadata": {
        "colab": {
          "base_uri": "https://localhost:8080/"
        },
        "id": "KlhR4hiVRa1X",
        "outputId": "db3ef744-fea7-494d-d238-2aeee3b49c41"
      },
      "execution_count": 73,
      "outputs": [
        {
          "output_type": "execute_result",
          "data": {
            "text/plain": [
              "torch.int64"
            ]
          },
          "metadata": {},
          "execution_count": 73
        }
      ]
    },
    {
      "cell_type": "code",
      "source": [
        "ones.dtype"
      ],
      "metadata": {
        "colab": {
          "base_uri": "https://localhost:8080/"
        },
        "id": "WAWsthEwRcRo",
        "outputId": "ad09d0a3-dd8e-4f73-e396-c42858391626"
      },
      "execution_count": 74,
      "outputs": [
        {
          "output_type": "execute_result",
          "data": {
            "text/plain": [
              "torch.float32"
            ]
          },
          "metadata": {},
          "execution_count": 74
        }
      ]
    },
    {
      "cell_type": "markdown",
      "source": [
        "### Creating a range of tensors and tensors-like"
      ],
      "metadata": {
        "id": "FAFAH66QRcOn"
      }
    },
    {
      "cell_type": "code",
      "source": [
        "torch.arange(0,10)"
      ],
      "metadata": {
        "colab": {
          "base_uri": "https://localhost:8080/"
        },
        "id": "3sOfxbMXRcKS",
        "outputId": "90f324c6-b8f0-4f8c-f10a-84bc75627300"
      },
      "execution_count": 76,
      "outputs": [
        {
          "output_type": "execute_result",
          "data": {
            "text/plain": [
              "tensor([0, 1, 2, 3, 4, 5, 6, 7, 8, 9])"
            ]
          },
          "metadata": {},
          "execution_count": 76
        }
      ]
    },
    {
      "cell_type": "code",
      "source": [
        "torch.zeros_like(random_tensor)"
      ],
      "metadata": {
        "colab": {
          "base_uri": "https://localhost:8080/"
        },
        "id": "Wyi9MGzlRcFv",
        "outputId": "88ea6fb8-fbd8-4eb3-c6d0-bf8b186c5a01"
      },
      "execution_count": 79,
      "outputs": [
        {
          "output_type": "execute_result",
          "data": {
            "text/plain": [
              "tensor([[0., 0., 0., 0.],\n",
              "        [0., 0., 0., 0.],\n",
              "        [0., 0., 0., 0.]])"
            ]
          },
          "metadata": {},
          "execution_count": 79
        }
      ]
    },
    {
      "cell_type": "markdown",
      "source": [
        "### Data Types in Tensors"
      ],
      "metadata": {
        "id": "DsTfovLjUDj5"
      }
    },
    {
      "cell_type": "code",
      "source": [
        "temp_tensor = torch.tensor([3.0,6.0,9.0],\n",
        "                           dtype= torch.bfloat16,\n",
        "                           device= 'cpu',\n",
        "                           requires_grad= False) #track gradients"
      ],
      "metadata": {
        "id": "fWsPVJW2RcAH"
      },
      "execution_count": 89,
      "outputs": []
    },
    {
      "cell_type": "code",
      "source": [
        "temp_tensor.dtype"
      ],
      "metadata": {
        "colab": {
          "base_uri": "https://localhost:8080/"
        },
        "id": "0umY_u34Rb3x",
        "outputId": "50d75b05-721d-4e12-8332-f4663aff5f42"
      },
      "execution_count": 87,
      "outputs": [
        {
          "output_type": "execute_result",
          "data": {
            "text/plain": [
              "torch.bfloat16"
            ]
          },
          "metadata": {},
          "execution_count": 87
        }
      ]
    },
    {
      "cell_type": "code",
      "source": [
        "tensor32 = temp_tensor.type(torch.float32) # explicit type casting"
      ],
      "metadata": {
        "id": "uuJc2RVaWA5X"
      },
      "execution_count": 92,
      "outputs": []
    },
    {
      "cell_type": "code",
      "source": [
        "result = temp_tensor*tensor32\n",
        "result"
      ],
      "metadata": {
        "colab": {
          "base_uri": "https://localhost:8080/"
        },
        "id": "UbMEQiHEWXgM",
        "outputId": "0b62d512-73f9-4a66-9718-993428c315a4"
      },
      "execution_count": 95,
      "outputs": [
        {
          "output_type": "execute_result",
          "data": {
            "text/plain": [
              "tensor([ 9., 36., 81.])"
            ]
          },
          "metadata": {},
          "execution_count": 95
        }
      ]
    },
    {
      "cell_type": "code",
      "source": [
        "result.dtype"
      ],
      "metadata": {
        "colab": {
          "base_uri": "https://localhost:8080/"
        },
        "id": "lDayNN8WW7JW",
        "outputId": "e6b5579c-77f9-4b7d-8cba-cf9a863c0450"
      },
      "execution_count": 96,
      "outputs": [
        {
          "output_type": "execute_result",
          "data": {
            "text/plain": [
              "torch.float32"
            ]
          },
          "metadata": {},
          "execution_count": 96
        }
      ]
    }
  ]
}